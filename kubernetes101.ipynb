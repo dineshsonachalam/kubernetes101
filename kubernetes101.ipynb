{
 "cells": [
  {
   "cell_type": "markdown",
   "metadata": {
    "collapsed": false
   },
   "source": [
    "# Kubetnetes 101"
   ]
  },
  {
   "cell_type": "markdown",
   "metadata": {
    "collapsed": false
   },
   "source": [
    "by Peter Nagy"
   ]
  },
  {
   "cell_type": "markdown",
   "metadata": {
    "collapsed": false
   },
   "source": [
    "## Part 1 - Explore the cluster (in team)"
   ]
  },
  {
   "cell_type": "markdown",
   "metadata": {
    "collapsed": false
   },
   "source": [
    "### List nodes"
   ]
  },
  {
   "cell_type": "markdown",
   "metadata": {
    "collapsed": false
   },
   "source": [
    "```bash\n",
    "$ kubectl get nodes\n",
    "```\n",
    "```bash\n",
    "ip-10-201-55-128.eu-central-1.compute.internal   Ready     master    5h        v1.11.10\n",
    "ip-10-201-83-130.eu-central-1.compute.internal   Ready     node      5h        v1.11.10\n",
    "```"
   ]
  },
  {
   "cell_type": "markdown",
   "metadata": {
    "collapsed": false
   },
   "source": [
    "### List namespaces"
   ]
  },
  {
   "cell_type": "markdown",
   "metadata": {
    "collapsed": false
   },
   "source": [
    "```bash\n",
    "$ kubectl get ns\n",
    "```\n",
    "```bash\n",
    "NAME          STATUS    AGE\n",
    "dani          Active    44m\n",
    "default       Active    5h\n",
    "fpeti         Active    43m\n",
    "interview     Active    2h\n",
    "karcsi        Active    43m\n",
    "kube-public   Active    5h\n",
    "kube-system   Active    5h\n",
    "pepo          Active    43m\n",
    "tomi          Active    43m\n",
    "```"
   ]
  },
  {
   "cell_type": "markdown",
   "metadata": {
    "collapsed": false
   },
   "source": [
    "### etc"
   ]
  },
  {
   "cell_type": "markdown",
   "metadata": {
    "collapsed": false
   },
   "source": [
    "## Part 2 - Deploy a few services and ingress controller"
   ]
  },
  {
   "cell_type": "markdown",
   "metadata": {
    "collapsed": false
   },
   "source": [
    "### Create secrets for database"
   ]
  },
  {
   "cell_type": "markdown",
   "metadata": {
    "collapsed": false
   },
   "source": [
    "In the next fews steps we will deploy a database based on this image: https://cloud.docker.com/repository/docker/nagypeter/k8s-database. Please examine the description on dockerhub."
   ]
  },
  {
   "cell_type": "markdown",
   "metadata": {
    "collapsed": false
   },
   "source": [
    "As you can see there are a few requirements:  \n",
    "**ENV:**  \n",
    " - **MYSQL_USER**=\"arbitrary username you will use by the service\"\n",
    " - **MYSQL_PASSWORD**=\"arbitrary password for your user\"\n",
    " - **MYSQL_ROOT_PASSWORD**=\"arbitrary root password\"\n",
    " \n",
    "**Args**:  \n",
    "- --default-authentication-plugin=mysql_native_password\n",
    "\n",
    "- Default port: 3306"
   ]
  },
  {
   "cell_type": "markdown",
   "metadata": {
    "collapsed": false
   },
   "source": [
    "Run the following command to create the secret containing the basis for our db deployment:"
   ]
  },
  {
   "cell_type": "markdown",
   "metadata": {
    "collapsed": false
   },
   "source": [
    "```bash\n",
    "kubectl create secret generic mysql-secret --from-literal=mysql.user=tc2 --from-literal=mysql.password=secret --from-literal=mysql.root.password=supersecret -n YOUR_NAMESPACE\n",
    "```"
   ]
  },
  {
   "cell_type": "markdown",
   "metadata": {
    "collapsed": false
   },
   "source": [
    "Lets create a db deployment (mysql-deployment.yaml):"
   ]
  },
  {
   "cell_type": "markdown",
   "metadata": {
    "collapsed": false
   },
   "source": [
    "```bash\n",
    "apiVersion: apps/v1\n",
    "kind: Deployment\n",
    "metadata:\n",
    "  name: database-deployment\n",
    "  labels:\n",
    "    app: database\n",
    "  namespace: YOUR_NAMESPACE\n",
    "spec:\n",
    "  replicas: 1\n",
    "  selector:\n",
    "    matchLabels:\n",
    "      app: database\n",
    "  template:\n",
    "    metadata:\n",
    "      labels:\n",
    "        app: database\n",
    "    spec:\n",
    "      containers:\n",
    "      - name: database\n",
    "        image: WHAT_COULD_BE_THE_IMAGE_NAME\n",
    "        ports:\n",
    "        - containerPort: WHAT_COULD_BE_THE_PORT\n",
    "        env:\n",
    "        - name: MYSQL_USER\n",
    "          valueFrom:\n",
    "            secretKeyRef:\n",
    "              name: mysql-secret\n",
    "              key: WHAT_COULD_BE_THE_KEY\n",
    "        - name: WHAT_COULD_BE_THE_ENV_NAME\n",
    "          valueFrom:\n",
    "            secretKeyRef:\n",
    "              name: mysql-secret\n",
    "              key: mysql.password\n",
    "        - name: MYSQL_ROOT_PASSWORD\n",
    "          valueFrom:\n",
    "            secretKeyRef:\n",
    "              name: WHAT_COULD_BE_THE_SECRET_NAME\n",
    "              key: mysql.root.password\n",
    "        args:\n",
    "        - --WHAT_COULD_BE_THE_ARG\n",
    "```"
   ]
  },
  {
   "cell_type": "markdown",
   "metadata": {
    "collapsed": false
   },
   "source": [
    "Next, we will create a service from the deployment, so our node application will be able to reference the db."
   ]
  },
  {
   "cell_type": "markdown",
   "metadata": {
    "collapsed": false
   },
   "source": [
    "```bash\n",
    "apiVersion: v1\n",
    "kind: Service\n",
    "metadata:\n",
    "  labels:\n",
    "    app: database-service\n",
    "  name: database-service\n",
    "  namespace: YOUR_NAMESPACE\n",
    "spec:\n",
    "  ports:\n",
    "  - protocol: TCP\n",
    "    port: 3306\n",
    "    targetPort: WHAT_COULD_BE_THE_TARGET_PORT\n",
    "  selector:\n",
    "    app: WHAT_COULD_BE_THE_SELECTOR\n",
    "```"
   ]
  },
  {
   "cell_type": "markdown",
   "metadata": {
    "collapsed": false
   },
   "source": [
    "Now we will a create a node application deployment and service, which will be based on this image: https://cloud.docker.com/repository/docker/nagypeter/k8s-service"
   ]
  },
  {
   "cell_type": "markdown",
   "metadata": {
    "collapsed": false
   },
   "source": [
    "```bash\n",
    "apiVersion: apps/v1\n",
    "kind: Deployment\n",
    "metadata:\n",
    "  name: node-service-deployment\n",
    "  labels:\n",
    "    app: node-app\n",
    "  namespace: YOUR_NAMESPACE\n",
    "spec:\n",
    "  replicas: 1\n",
    "  selector:\n",
    "    matchLabels:\n",
    "      app: node-app\n",
    "  template:\n",
    "    metadata:\n",
    "      labels:\n",
    "        app: node-app\n",
    "    spec:\n",
    "      containers:\n",
    "      - name: node-app\n",
    "        image: https://cloud.docker.com/repository/docker/nagypeter/k8s-servic\n",
    "        ports:\n",
    "        - containerPort: 9000\n",
    "        env:\n",
    "        - name: MYSQL_HOST\n",
    "          value: WHAT_COULD_BE_THE_VALUE\n",
    "        - name: MYSQL_USERNAME\n",
    "          valueFrom:\n",
    "            secretKeyRef:\n",
    "              name: mysql-secret\n",
    "              key: mysql.user\n",
    "        - name: MYSQL_PASSWORD\n",
    "          valueFrom:\n",
    "            secretKeyRef:\n",
    "              name: mysql-secret\n",
    "              key: mysql.password\n",
    "        - name: MYSQL_DATABASE\n",
    "          value: tc2\n",
    "---\n",
    "apiVersion: v1\n",
    "kind: Service\n",
    "metadata:\n",
    "  labels:\n",
    "    app: node-service\n",
    "  name: node-service\n",
    "  namespace: YOUR_NAMESPACE\n",
    "spec:\n",
    "  ports:\n",
    "  - protocol: TCP\n",
    "    port: 80\n",
    "    targetPort: 9000\n",
    "  selector:\n",
    "    app: node-app\n",
    "  type: NodePort    <--- ask my why this is NodePort\n",
    "```"
   ]
  },
  {
   "cell_type": "markdown",
   "metadata": {
    "collapsed": false
   },
   "source": [
    "Even if you did everyhing right, the pod creation will fail. What could be the problem? Use the following command to figure it out:"
   ]
  },
  {
   "cell_type": "markdown",
   "metadata": {
    "collapsed": false
   },
   "source": [
    "```bash\n",
    "kubectl describe get po\n",
    "\n",
    "node-app-95f8bc4cb-ls4fd\n",
    "```\n",
    "```bash\n",
    "kubectl describe po node-app-95f8bc4cb-ls4fd\n",
    "\n",
    "...\n",
    "```"
   ]
  },
  {
   "cell_type": "markdown",
   "metadata": {
    "collapsed": false
   },
   "source": [
    "Next, we will expose our service with an ingress controller, which will create an ALB for us."
   ]
  },
  {
   "cell_type": "markdown",
   "metadata": {
    "collapsed": false
   },
   "source": [
    "```bash\n",
    "apiVersion: extensions/v1beta1\n",
    "kind: Ingress\n",
    "metadata:\n",
    "  name: \"node-app-ingress\"\n",
    "  namespace: YOUR_NAMESPACE\n",
    "  annotations:\n",
    "    kubernetes.io/ingress.class: alb\n",
    "    alb.ingress.kubernetes.io/scheme: internet-facing\n",
    "    alb.ingress.kubernetes.io/listen-ports: '[{\"HTTP\": 80}]'\n",
    "  labels:\n",
    "    app: node-app-ingress\n",
    "spec:\n",
    "  rules:\n",
    "    - host: k8s-your-namespace.tc2-edu.com\n",
    "    - http:\n",
    "        paths:\n",
    "          - path: /*\n",
    "            backend:\n",
    "              serviceName: WHAT_COULD_BE_THE_SERVICE_NAME\n",
    "              servicePort: 80\n",
    "```"
   ]
  },
  {
   "cell_type": "markdown",
   "metadata": {
    "collapsed": false
   },
   "source": [
    "Lets see, if the alb-ingress-controller thinks our resource is OK:"
   ]
  },
  {
   "cell_type": "markdown",
   "metadata": {
    "collapsed": false
   },
   "source": [
    "```bash\n",
    "kubectl get po -n kube-system | grep -i ingress\n",
    "alb-ingress-controller-66f8c48776-49rpw                                  1/1       Running   0          5h\n",
    "```\n",
    "```bash\n",
    "kubectl logs alb-ingress-controller-66f8c48776-49rpw  -n kube-system\n",
    "\n",
    "I0716 17:02:46.179319       1 rules.go:77] interview/node-app-ingress: rule 1 created with conditions [{    Field: \"path-pattern\",    Values: [\"/*\"]  }]\n",
    "I0716 17:02:46.265945       1 association.go:224] interview/node-app-ingress: creating securityGroup cd5608a6-interview-nodeapp-230b:managed LoadBalancer securityGroup by ALB Ingress Controller\n",
    "I0716 17:02:46.341787       1 tags.go:69] interview/node-app-ingress: modifying tags {  kubernetes.io/cluster-name: \"kubernetes-generic-pzn2zg7f.internal\",  kubernetes.io/namespace: \"interview\",  kubernetes.io/ingress-name: \"node-app-ingress\"} on sg-06559161f2b0d228b\n",
    "I0716 17:02:46.429567       1 security_group.go:50] interview/node-app-ingress: granting inbound permissions to securityGroup sg-06559161f2b0d228b: [{    FromPort: 80,    IpProtocol: \"tcp\",    IpRanges: [{        CidrIp: \"0.0.0.0/0\",        Description: \"Allow ingress on port 80 from 0.0.0.0/0\"      }],    ToPort: 80  }]\n",
    "I0716 17:02:46.561258       1 lb_attachment.go:30] interview/node-app-ingress: modify securityGroup on LoadBalancer arn:aws:elasticloadbalancing:eu-central-1:471509798482:loadbalancer/app/cd5608a6-interview-nodeapp-230b/191556c4f21d31aa to be [sg-06559161f2b0d228b]\n",
    "I0716 17:02:46.799674       1 association.go:224] interview/node-app-ingress: creating securityGroup instance-cd5608a6-interview-nodeapp-230b:managed instance securityGroup by ALB Ingress Controller\n",
    "I0716 17:02:46.874682       1 tags.go:69] interview/node-app-ingress: modifying tags {  kubernetes.io/ingress-name: \"node-app-ingress\",  kubernetes.io/cluster-name: \"kubernetes-generic-pzn2zg7f.internal\",  kubernetes.io/namespace: \"interview\"} on sg-037bcdbe6d8758312\n",
    "I0716 17:02:46.976611       1 security_group.go:50] interview/node-app-ingress: granting inbound permissions to securityGroup sg-037bcdbe6d8758312: [{    FromPort: 0,    IpProtocol: \"tcp\",    ToPort: 65535,    UserIdGroupPairs: [{        GroupId: \"sg-06559161f2b0d228b\"      }]  }]\n",
    "```"
   ]
  },
  {
   "cell_type": "markdown",
   "metadata": {
    "collapsed": false
   },
   "source": [
    "Find the alb DNS to check our service, look for the ALB which's name contains your namespace:"
   ]
  },
  {
   "cell_type": "markdown",
   "metadata": {
    "collapsed": false
   },
   "source": [
    "```bash\n",
    "aws elbv2 describe-load-balancers --region eu-central-1\n",
    "```"
   ]
  },
  {
   "cell_type": "markdown",
   "metadata": {
    "collapsed": false
   },
   "source": [
    "Lets make a call:"
   ]
  },
  {
   "cell_type": "markdown",
   "metadata": {
    "collapsed": false
   },
   "source": [
    "```bash\n",
    "curl -H 'Host: k8s-your-namespace.tc2.com' 'ALB-DNS-NAME'\n",
    "```"
   ]
  },
  {
   "cell_type": "markdown",
   "metadata": {
    "collapsed": false
   },
   "source": [
    "So what message do you see?"
   ]
  },
  {
   "cell_type": "code",
   "execution_count": 0,
   "metadata": {
    "collapsed": false
   },
   "outputs": [
   ],
   "source": [
   ]
  }
 ],
 "metadata": {
  "kernelspec": {
   "display_name": "Python 3 (system-wide)",
   "language": "python",
   "metadata": {
    "cocalc": {
     "description": "Python 3 programming language",
     "priority": 100,
     "url": "https://www.python.org/"
    }
   },
   "name": "python3"
  }
 },
 "nbformat": 4,
 "nbformat_minor": 0
}
